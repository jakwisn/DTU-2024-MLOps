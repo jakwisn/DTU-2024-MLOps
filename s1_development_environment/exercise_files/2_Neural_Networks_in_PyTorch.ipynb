{
 "cells": [
  {
   "cell_type": "markdown",
   "metadata": {},
   "source": [
    "# Neural networks with PyTorch\n",
    "\n",
    "Deep learning networks tend to be massive with dozens or hundreds of layers, that's where the term \"deep\" comes from. You can build one of these deep networks using only weight matrices as we did in the previous notebook, but in general it's very cumbersome and difficult to implement. PyTorch has a nice module `nn` that provides a nice way to efficiently build large neural networks."
   ]
  },
  {
   "cell_type": "code",
   "execution_count": 1,
   "metadata": {},
   "outputs": [],
   "source": [
    "# Import necessary packages\n",
    "\n",
    "%matplotlib inline\n",
    "%config InlineBackend.figure_format = 'retina'\n",
    "\n",
    "import numpy as np\n",
    "import torch\n",
    "\n",
    "import helper\n",
    "\n",
    "import matplotlib.pyplot as plt"
   ]
  },
  {
   "cell_type": "markdown",
   "metadata": {},
   "source": [
    "\n",
    "Now we're going to build a larger network that can solve a (formerly) difficult problem, identifying text in an image. Here we'll use the MNIST dataset which consists of greyscale handwritten digits. Each image is 28x28 pixels, you can see a sample below\n",
    "\n",
    "<img src='assets/mnist.png'>\n",
    "\n",
    "Our goal is to build a neural network that can take one of these images and predict the digit in the image.\n",
    "\n",
    "First up, we need to get our dataset. This is provided through the `torchvision` package. The code below will download the MNIST dataset, then create training and test datasets for us. Don't worry too much about the details here, you'll learn more about this later."
   ]
  },
  {
   "cell_type": "code",
   "execution_count": 2,
   "metadata": {},
   "outputs": [
    {
     "name": "stdout",
     "output_type": "stream",
     "text": [
      "Downloading http://yann.lecun.com/exdb/mnist/train-images-idx3-ubyte.gz\n",
      "Downloading http://yann.lecun.com/exdb/mnist/train-images-idx3-ubyte.gz to /home/jakwisn/.pytorch/MNIST_data/MNIST/raw/train-images-idx3-ubyte.gz\n"
     ]
    },
    {
     "name": "stderr",
     "output_type": "stream",
     "text": [
      "100%|███████████████████████████████████████████████████████████████████████████████████████████████████████████████| 9912422/9912422 [00:00<00:00, 12339441.24it/s]\n"
     ]
    },
    {
     "name": "stdout",
     "output_type": "stream",
     "text": [
      "Extracting /home/jakwisn/.pytorch/MNIST_data/MNIST/raw/train-images-idx3-ubyte.gz to /home/jakwisn/.pytorch/MNIST_data/MNIST/raw\n",
      "\n",
      "Downloading http://yann.lecun.com/exdb/mnist/train-labels-idx1-ubyte.gz\n",
      "Downloading http://yann.lecun.com/exdb/mnist/train-labels-idx1-ubyte.gz to /home/jakwisn/.pytorch/MNIST_data/MNIST/raw/train-labels-idx1-ubyte.gz\n"
     ]
    },
    {
     "name": "stderr",
     "output_type": "stream",
     "text": [
      "100%|███████████████████████████████████████████████████████████████████████████████████████████████████████████████████| 28881/28881 [00:00<00:00, 45386172.28it/s]"
     ]
    },
    {
     "name": "stdout",
     "output_type": "stream",
     "text": [
      "Extracting /home/jakwisn/.pytorch/MNIST_data/MNIST/raw/train-labels-idx1-ubyte.gz to /home/jakwisn/.pytorch/MNIST_data/MNIST/raw\n",
      "\n",
      "Downloading http://yann.lecun.com/exdb/mnist/t10k-images-idx3-ubyte.gz\n",
      "Downloading http://yann.lecun.com/exdb/mnist/t10k-images-idx3-ubyte.gz to /home/jakwisn/.pytorch/MNIST_data/MNIST/raw/t10k-images-idx3-ubyte.gz\n"
     ]
    },
    {
     "name": "stderr",
     "output_type": "stream",
     "text": [
      "\n",
      "100%|████████████████████████████████████████████████████████████████████████████████████████████████████████████████| 1648877/1648877 [00:00<00:00, 9235682.39it/s]\n"
     ]
    },
    {
     "name": "stdout",
     "output_type": "stream",
     "text": [
      "Extracting /home/jakwisn/.pytorch/MNIST_data/MNIST/raw/t10k-images-idx3-ubyte.gz to /home/jakwisn/.pytorch/MNIST_data/MNIST/raw\n",
      "\n",
      "Downloading http://yann.lecun.com/exdb/mnist/t10k-labels-idx1-ubyte.gz\n",
      "Downloading http://yann.lecun.com/exdb/mnist/t10k-labels-idx1-ubyte.gz to /home/jakwisn/.pytorch/MNIST_data/MNIST/raw/t10k-labels-idx1-ubyte.gz\n"
     ]
    },
    {
     "name": "stderr",
     "output_type": "stream",
     "text": [
      "100%|██████████████████████████████████████████████████████████████████████████████████████████████████████████████████████| 4542/4542 [00:00<00:00, 5542778.23it/s]\n"
     ]
    },
    {
     "name": "stdout",
     "output_type": "stream",
     "text": [
      "Extracting /home/jakwisn/.pytorch/MNIST_data/MNIST/raw/t10k-labels-idx1-ubyte.gz to /home/jakwisn/.pytorch/MNIST_data/MNIST/raw\n",
      "\n"
     ]
    }
   ],
   "source": [
    "### Run this cell\n",
    "\n",
    "from torchvision import datasets, transforms\n",
    "\n",
    "# Define a transform to normalize the data\n",
    "transform = transforms.Compose([transforms.ToTensor(),\n",
    "                              transforms.Normalize((0.5,), (0.5,)),\n",
    "                              ])\n",
    "\n",
    "# Download and load the training data\n",
    "trainset = datasets.MNIST('~/.pytorch/MNIST_data/', download=True, train=True, transform=transform)\n",
    "trainloader = torch.utils.data.DataLoader(trainset, batch_size=64, shuffle=True)"
   ]
  },
  {
   "cell_type": "markdown",
   "metadata": {},
   "source": [
    "We have the training data loaded into `trainloader` and we make that an iterator with `iter(trainloader)`. Later, we'll use this to loop through the dataset for training, like\n",
    "\n",
    "```python\n",
    "for image, label in trainloader:\n",
    "    ## do things with images and labels\n",
    "```\n",
    "\n",
    "You'll notice I created the `trainloader` with a batch size of 64, and `shuffle=True`. The batch size is the number of images we get in one iteration from the data loader and pass through our network, often called a *batch*. And `shuffle=True` tells it to shuffle the dataset every time we start going through the data loader again. But here I'm just grabbing the first batch so we can check out the data. We can see below that `images` is just a tensor with size `(64, 1, 28, 28)`. So, 64 images per batch, 1 color channel, and 28x28 images."
   ]
  },
  {
   "cell_type": "code",
   "execution_count": 3,
   "metadata": {},
   "outputs": [
    {
     "name": "stdout",
     "output_type": "stream",
     "text": [
      "<class 'torch.Tensor'>\n",
      "torch.Size([64, 1, 28, 28])\n",
      "torch.Size([64])\n"
     ]
    }
   ],
   "source": [
    "dataiter = iter(trainloader)\n",
    "images, labels = next(dataiter)\n",
    "print(type(images))\n",
    "print(images.shape)\n",
    "print(labels.shape)"
   ]
  },
  {
   "cell_type": "markdown",
   "metadata": {},
   "source": [
    "This is what one of the images looks like. "
   ]
  },
  {
   "cell_type": "code",
   "execution_count": 4,
   "metadata": {},
   "outputs": [
    {
     "data": {
      "image/png": "[encoded data removed]",
      "text/plain": [
       "<Figure size 640x480 with 1 Axes>"
      ]
     },
     "metadata": {
      "image/png": {
       "height": 413,
       "width": 417
      }
     },
     "output_type": "display_data"
    }
   ],
   "source": [
    "plt.imshow(images[1].numpy().squeeze(), cmap='Greys_r');"
   ]
  },
  {
   "cell_type": "markdown",
   "metadata": {},
   "source": [
    "First, let's try to build a simple network for this dataset using weight matrices and matrix multiplications. Then, we'll see how to do it using PyTorch's `nn` module which provides a much more convenient and powerful method for defining network architectures.\n",
    "\n",
    "The networks you've seen so far are called *fully-connected* or *dense* networks. Each unit in one layer is connected to each unit in the next layer. In fully-connected networks, the input to each layer must be a one-dimensional vector (which can be stacked into a 2D tensor as a batch of multiple examples). However, our images are 28x28 2D tensors, so we need to convert them into 1D vectors. Thinking about sizes, we need to convert the batch of images with shape `(64, 1, 28, 28)` to a have a shape of `(64, 784)`, 784 is 28 times 28. This is typically called *flattening*, we flattened the 2D images into 1D vectors.\n",
    "\n",
    "Previously you built a network with one output unit. Here we need 10 output units, one for each digit. We want our network to predict the digit shown in an image, so what we'll do is calculate probabilities that the image is of any one digit or class. This ends up being a discrete probability distribution over the classes (digits) that tells us the most likely class for the image. That means we need 10 output units for the 10 classes (digits). We'll see how to convert the network output into a probability distribution next.\n",
    "\n",
    "> **Exercise:** Flatten the batch of images `images`. Then build a multi-layer network with 784 input units, 256 hidden units, and 10 output units using random tensors for the weights and biases. For now, use a sigmoid activation for the hidden layer. Leave the output layer without an activation, we'll add one that gives us a probability distribution next."
   ]
  },
  {
   "cell_type": "code",
   "execution_count": 5,
   "metadata": {},
   "outputs": [],
   "source": [
    "## Your solution   \n",
    "\n",
    "## Activation function\n",
    "def activation(x):\n",
    "    \"\"\" Sigmoid activation function \n",
    "        Arguments\n",
    "        ---------\n",
    "        x: torch.Tensor\n",
    "    \"\"\"\n",
    "    return 1/(1+torch.exp(-x))\n",
    "\n",
    "### Neural network\n",
    "def multi_Layer_NW(inputUnits, hiddenUnits, outputUnits):\n",
    "    torch.manual_seed(7) # Set the random seed so things are predictable\n",
    "\n",
    "    # Define the size of each layer in our network\n",
    "    n_input = inputUnits     # Number of input units, must match number of input features\n",
    "    n_hidden = hiddenUnits   # Number of hidden units \n",
    "    n_output = outputUnits   # Number of output units\n",
    "\n",
    "    # Weights for inputs to hidden layer\n",
    "    W1 = torch.randn(n_input, n_hidden)\n",
    "    # Weights for hidden layer to output layer\n",
    "    W2 = torch.randn(n_hidden, n_output)\n",
    "\n",
    "    # and bias terms for hidden and output layers\n",
    "    B1 = torch.randn((1, n_hidden))\n",
    "    B2 = torch.randn((1, n_output))\n",
    "\n",
    "    return W1,W2,B1,B2\n",
    "\n",
    "def calc_output(features,W1,W2,B1,B2):\n",
    "    h = activation(torch.matmul(features,W1).add_(B1))\n",
    "    output = activation(torch.matmul(h,W2).add_(B2))\n",
    "    return output\n",
    "\n",
    "# Features are flattened batch input\n",
    "features = torch.flatten(images,start_dim=1)\n",
    "W1,W2,B1,B2 = multi_Layer_NW(features.shape[1],256,10)\n",
    "\n",
    "out = calc_output(features,W1,W2,B1,B2) # output of your network, should have shape (64,10)"
   ]
  },
  {
   "cell_type": "code",
   "execution_count": 6,
   "metadata": {},
   "outputs": [
    {
     "data": {
      "text/plain": [
       "torch.Size([64, 10])"
      ]
     },
     "execution_count": 6,
     "metadata": {},
     "output_type": "execute_result"
    }
   ],
   "source": [
    "out.shape"
   ]
  },
  {
   "cell_type": "markdown",
   "metadata": {},
   "source": [
    "Now we have 10 outputs for our network. We want to pass in an image to our network and get out a probability distribution over the classes that tells us the likely class(es) the image belongs to. Something that looks like this:\n",
    "<img src='assets/image_distribution.png' width=500px>\n",
    "\n",
    "Here we see that the probability for each class is roughly the same. This is representing an untrained network, it hasn't seen any data yet so it just returns a uniform distribution with equal probabilities for each class.\n",
    "\n",
    "To calculate this probability distribution, we often use the [**softmax** function](https://en.wikipedia.org/wiki/Softmax_function). Mathematically this looks like\n",
    "\n",
    "$$\n",
    "\\Large \\sigma(x_i) = \\cfrac{e^{x_i}}{\\sum_k^K{e^{x_k}}}\n",
    "$$\n",
    "\n",
    "What this does is squish each input $x_i$ between 0 and 1 and normalizes the values to give you a proper probability distribution where the probabilities sum up to one.\n",
    "\n",
    "> **Exercise:** Implement a function `softmax` that performs the softmax calculation and returns probability distributions for each example in the batch. Note that you'll need to pay attention to the shapes when doing this. If you have a tensor `a` with shape `(64, 10)` and a tensor `b` with shape `(64,)`, doing `a/b` will give you an error because PyTorch will try to do the division across the columns (called broadcasting) but you'll get a size mismatch. The way to think about this is for each of the 64 examples, you only want to divide by one value, the sum in the denominator. So you need `b` to have a shape of `(64, 1)`. This way PyTorch will divide the 10 values in each row of `a` by the one value in each row of `b`. Pay attention to how you take the sum as well. You'll need to define the `dim` keyword in `torch.sum`. Setting `dim=0` takes the sum across the rows while `dim=1` takes the sum across the columns."
   ]
  },
  {
   "cell_type": "code",
   "execution_count": 27,
   "metadata": {},
   "outputs": [
    {
     "name": "stdout",
     "output_type": "stream",
     "text": [
      "torch.Size([64, 10])\n",
      "tensor([1.0000, 1.0000, 1.0000, 1.0000, 1.0000, 1.0000, 1.0000, 1.0000, 1.0000,\n",
      "        1.0000, 1.0000, 1.0000, 1.0000, 1.0000, 1.0000, 1.0000, 1.0000, 1.0000,\n",
      "        1.0000, 1.0000, 1.0000, 1.0000, 1.0000, 1.0000, 1.0000, 1.0000, 1.0000,\n",
      "        1.0000, 1.0000, 1.0000, 1.0000, 1.0000, 1.0000, 1.0000, 1.0000, 1.0000,\n",
      "        1.0000, 1.0000, 1.0000, 1.0000, 1.0000, 1.0000, 1.0000, 1.0000, 1.0000,\n",
      "        1.0000, 1.0000, 1.0000, 1.0000, 1.0000, 1.0000, 1.0000, 1.0000, 1.0000,\n",
      "        1.0000, 1.0000, 1.0000, 1.0000, 1.0000, 1.0000, 1.0000, 1.0000, 1.0000,\n",
      "        1.0000])\n"
     ]
    }
   ],
   "source": [
    "def softmax(x):\n",
    "    ## TODO: Implement the softmax function here\n",
    "    return x.exp() / (x.exp().sum(dim=1)).reshape(-1,1)\n",
    "\n",
    "# Here, out should be the output of the network in the previous exercise with shape (64,10)\n",
    "probabilities = softmax(out)\n",
    "\n",
    "# Does it have the right shape? Should be (64, 10)\n",
    "print(probabilities.shape)\n",
    "# Does it sum to 1?\n",
    "print(probabilities.sum(dim=1))"
   ]
  },
  {
   "cell_type": "markdown",
   "metadata": {},
   "source": [
    "## Building networks with PyTorch\n",
    "\n",
    "PyTorch provides a module `nn` that makes building networks much simpler. Here I'll show you how to build the same one as above with 784 inputs, 256 hidden units, 10 output units and a softmax output."
   ]
  },
  {
   "cell_type": "code",
   "execution_count": 28,
   "metadata": {},
   "outputs": [],
   "source": [
    "from torch import nn"
   ]
  },
  {
   "cell_type": "code",
   "execution_count": 29,
   "metadata": {},
   "outputs": [],
   "source": [
    "class Network(nn.Module):\n",
    "    def __init__(self):\n",
    "        super().__init__()\n",
    "        \n",
    "        # Inputs to hidden layer linear transformation\n",
    "        self.hidden = nn.Linear(784, 256)\n",
    "        # Output layer, 10 units - one for each digit\n",
    "        self.output = nn.Linear(256, 10)\n",
    "        \n",
    "        # Define sigmoid activation and softmax output \n",
    "        self.sigmoid = nn.Sigmoid()\n",
    "        self.softmax = nn.Softmax(dim=1)\n",
    "        \n",
    "    def forward(self, x):\n",
    "        # Pass the input tensor through each of our operations\n",
    "        x = self.hidden(x)\n",
    "        x = self.sigmoid(x)\n",
    "        x = self.output(x)\n",
    "        x = self.softmax(x)\n",
    "        \n",
    "        return x"
   ]
  },
  {
   "cell_type": "markdown",
   "metadata": {},
   "source": [
    "Let's go through this bit by bit.\n",
    "\n",
    "```python\n",
    "class Network(nn.Module):\n",
    "```\n",
    "\n",
    "Here we're inheriting from `nn.Module`. Combined with `super().__init__()` this creates a class that tracks the architecture and provides a lot of useful methods and attributes. It is mandatory to inherit from `nn.Module` when you're creating a class for your network. The name of the class itself can be anything.\n",
    "\n",
    "```python\n",
    "self.hidden = nn.Linear(784, 256)\n",
    "```\n",
    "\n",
    "This line creates a module for a linear transformation, $x\\mathbf{W} + b$, with 784 inputs and 256 outputs and assigns it to `self.hidden`. The module automatically creates the weight and bias tensors which we'll use in the `forward` method. You can access the weight and bias tensors once the network (`net`) is created with `net.hidden.weight` and `net.hidden.bias`.\n",
    "\n",
    "```python\n",
    "self.output = nn.Linear(256, 10)\n",
    "```\n",
    "\n",
    "Similarly, this creates another linear transformation with 256 inputs and 10 outputs.\n",
    "\n",
    "```python\n",
    "self.sigmoid = nn.Sigmoid()\n",
    "self.softmax = nn.Softmax(dim=1)\n",
    "```\n",
    "\n",
    "Here I defined operations for the sigmoid activation and softmax output. Setting `dim=1` in `nn.Softmax(dim=1)` calculates softmax across the columns.\n",
    "\n",
    "```python\n",
    "def forward(self, x):\n",
    "```\n",
    "\n",
    "PyTorch networks created with `nn.Module` must have a `forward` method defined. It takes in a tensor `x` and passes it through the operations you defined in the `__init__` method.\n",
    "\n",
    "```python\n",
    "x = self.hidden(x)\n",
    "x = self.sigmoid(x)\n",
    "x = self.output(x)\n",
    "x = self.softmax(x)\n",
    "```\n",
    "\n",
    "Here the input tensor `x` is passed through each operation and reassigned to `x`. We can see that the input tensor goes through the hidden layer, then a sigmoid function, then the output layer, and finally the softmax function. It doesn't matter what you name the variables here, as long as the inputs and outputs of the operations match the network architecture you want to build. The order in which you define things in the `__init__` method doesn't matter, but you'll need to sequence the operations correctly in the `forward` method.\n",
    "\n",
    "Now we can create a `Network` object."
   ]
  },
  {
   "cell_type": "code",
   "execution_count": 30,
   "metadata": {},
   "outputs": [
    {
     "data": {
      "text/plain": [
       "Network(\n",
       "  (hidden): Linear(in_features=784, out_features=256, bias=True)\n",
       "  (output): Linear(in_features=256, out_features=10, bias=True)\n",
       "  (sigmoid): Sigmoid()\n",
       "  (softmax): Softmax(dim=1)\n",
       ")"
      ]
     },
     "execution_count": 30,
     "metadata": {},
     "output_type": "execute_result"
    }
   ],
   "source": [
    "# Create the network and look at its text representation\n",
    "model = Network()\n",
    "model"
   ]
  },
  {
   "cell_type": "markdown",
   "metadata": {},
   "source": [
    "You can define the network somewhat more concisely and clearly using the `torch.nn.functional` module. This is the most common way you'll see networks defined as many operations are simple element-wise functions. We normally import this module as `F`, `import torch.nn.functional as F`."
   ]
  },
  {
   "cell_type": "code",
   "execution_count": 31,
   "metadata": {},
   "outputs": [],
   "source": [
    "import torch.nn.functional as F\n",
    "\n",
    "class Network(nn.Module):\n",
    "    def __init__(self):\n",
    "        super().__init__()\n",
    "        # Inputs to hidden layer linear transformation\n",
    "        self.hidden = nn.Linear(784, 256)\n",
    "        # Output layer, 10 units - one for each digit\n",
    "        self.output = nn.Linear(256, 10)\n",
    "        \n",
    "    def forward(self, x):\n",
    "        # Hidden layer with sigmoid activation\n",
    "        x = F.sigmoid(self.hidden(x))\n",
    "        # Output layer with softmax activation\n",
    "        x = F.softmax(self.output(x), dim=1)\n",
    "        \n",
    "        return x"
   ]
  },
  {
   "cell_type": "markdown",
   "metadata": {},
   "source": [
    "### Activation functions\n",
    "\n",
    "So far we've only been looking at the sigmoid activation function, but in general any function can be used as an activation function. The only requirement is that for a network to approximate a non-linear function, the activation functions must be non-linear. Here are a few more examples of common activation functions: Tanh (hyperbolic tangent), and ReLU (rectified linear unit).\n",
    "\n",
    "<img src=\"assets/activation.png\" width=700px>\n",
    "\n",
    "In practice, the ReLU function is used almost exclusively as the activation function for hidden layers."
   ]
  },
  {
   "cell_type": "markdown",
   "metadata": {},
   "source": [
    "### Your Turn to Build a Network\n",
    "\n",
    "<img src=\"assets/mlp_mnist.png\" width=600px>\n",
    "\n",
    "> **Exercise:** Create a network with 784 input units, a hidden layer with 128 units and a ReLU activation, then a hidden layer with 64 units and a ReLU activation, and finally an output layer with a softmax activation as shown above. You can use a ReLU activation with the `nn.ReLU` module or `F.relu` function.\n",
    "\n",
    "It's good practice to name your layers by their type of network, for instance 'fc' to represent a fully-connected layer. As you code your solution, use `fc1`, `fc2`, and `fc3` as your layer names."
   ]
  },
  {
   "cell_type": "code",
   "execution_count": 43,
   "metadata": {
    "scrolled": true
   },
   "outputs": [
    {
     "data": {
      "text/plain": [
       "Network(\n",
       "  (fc1): Linear(in_features=784, out_features=128, bias=True)\n",
       "  (fc2): Linear(in_features=128, out_features=64, bias=True)\n",
       "  (fc3): Linear(in_features=64, out_features=10, bias=True)\n",
       ")"
      ]
     },
     "execution_count": 43,
     "metadata": {},
     "output_type": "execute_result"
    }
   ],
   "source": [
    "## Your solution here\n",
    "import torch.nn.functional as F\n",
    "\n",
    "class Network(nn.Module):\n",
    "    def __init__(self):\n",
    "        super().__init__()\n",
    "        # Inputs to hidden layer linear transformation\n",
    "        self.fc1 = nn.Linear(784, 128)\n",
    "        self.fc2 = nn.Linear(128, 64)\n",
    "        self.fc3 = nn.Linear(64, 10)\n",
    "        \n",
    "        \n",
    "    def forward(self, x):\n",
    "        # Hidden layer with sigmoid activation\n",
    "        x = F.relu(self.fc1(x))\n",
    "        x = F.relu(self.fc2(x))\n",
    "        # Output layer with softmax activation\n",
    "        x = F.softmax(self.fc3(x), dim=1)\n",
    "        \n",
    "        return x\n",
    "\n",
    "model = Network()\n",
    "model"
   ]
  },
  {
   "cell_type": "markdown",
   "metadata": {},
   "source": [
    "### Initializing weights and biases\n",
    "\n",
    "The weights and such are automatically initialized for you, but it's possible to customize how they are initialized. The weights and biases are tensors attached to the layer you defined, you can get them with `model.fc1.weight` for instance."
   ]
  },
  {
   "cell_type": "code",
   "execution_count": 35,
   "metadata": {},
   "outputs": [
    {
     "name": "stdout",
     "output_type": "stream",
     "text": [
      "Parameter containing:\n",
      "tensor([[-1.1115e-01,  9.6473e-02, -2.4806e-02, -7.3711e-02,  4.1544e-02,\n",
      "         -9.6084e-02, -1.0636e-01, -1.1198e-01, -3.5336e-02, -7.4649e-02,\n",
      "         -5.9264e-02, -2.7528e-02, -1.2175e-02,  1.0958e-01, -8.4546e-02,\n",
      "         -7.4203e-02,  3.3962e-02, -5.4485e-02,  9.5585e-02, -1.0332e-01,\n",
      "          4.9874e-02, -6.9774e-02,  3.9634e-02,  9.7180e-02, -9.1467e-03,\n",
      "          1.1906e-01, -1.0215e-01, -9.7291e-03, -1.0124e-01,  3.9824e-02,\n",
      "         -1.2374e-01,  8.8683e-02,  7.8720e-02, -8.8771e-02,  1.1402e-01,\n",
      "          1.2259e-01,  3.9395e-02, -1.0417e-01,  6.7364e-02,  8.4828e-02,\n",
      "          5.1699e-02,  1.2142e-01, -3.2227e-03, -9.1747e-03,  2.0572e-02,\n",
      "         -1.6416e-02,  1.0446e-01, -9.7661e-02, -1.1644e-01, -5.7742e-02,\n",
      "         -5.3047e-02, -3.4556e-02,  1.0419e-01,  2.9311e-02, -1.4289e-02,\n",
      "         -2.2242e-02,  2.9899e-02,  1.1020e-01,  1.2055e-01,  7.9939e-02,\n",
      "          7.5250e-02, -1.1748e-01, -7.6260e-02, -1.0169e-01],\n",
      "        [ 6.4552e-02,  7.0750e-02, -4.7521e-02, -3.2045e-02, -1.9850e-02,\n",
      "          6.1353e-02, -2.3565e-02, -1.8025e-02, -1.0144e-01, -3.4023e-02,\n",
      "         -8.7942e-03, -1.9000e-02,  5.5171e-02, -1.0653e-01,  4.0400e-02,\n",
      "         -1.1584e-01,  1.1394e-01,  6.2202e-02, -1.0521e-01,  1.3376e-03,\n",
      "         -7.9554e-02,  1.0195e-01,  9.0533e-02, -4.6004e-04,  1.1974e-01,\n",
      "         -5.1408e-02, -8.1640e-02, -7.7389e-02, -2.9421e-02, -9.6888e-02,\n",
      "          2.7153e-02,  9.1300e-02, -4.4705e-02, -1.1718e-01,  1.2392e-01,\n",
      "          6.4865e-02,  5.9571e-02,  3.9007e-03,  3.1595e-02, -1.0793e-01,\n",
      "          9.2894e-02,  8.6770e-03,  1.0403e-01,  4.6568e-02,  4.1486e-02,\n",
      "         -9.7107e-02, -3.3639e-02, -6.8595e-03,  9.3909e-02,  1.0898e-01,\n",
      "          2.6580e-02, -8.9674e-03,  6.5754e-02,  1.1921e-01, -8.9164e-02,\n",
      "          5.3362e-02,  9.4520e-02, -1.1641e-02,  7.6827e-02, -5.2970e-02,\n",
      "          3.9961e-02,  3.9418e-02, -7.0631e-02, -1.1169e-02],\n",
      "        [-3.0586e-02,  9.1763e-03, -2.5819e-02,  2.5467e-02, -2.9661e-03,\n",
      "          7.4923e-02,  8.5436e-02, -8.1898e-02, -1.0398e-02,  9.5405e-02,\n",
      "         -8.1488e-02, -1.1620e-01,  9.8322e-02,  9.8038e-02,  9.9168e-02,\n",
      "          5.9631e-02, -9.2280e-02,  3.1887e-04,  3.6126e-02, -5.2060e-02,\n",
      "          6.8112e-02,  7.6643e-02, -1.2461e-02, -1.0330e-01,  4.2749e-02,\n",
      "         -7.8201e-02, -3.2925e-03, -6.3797e-02, -2.0738e-03,  9.9017e-02,\n",
      "         -1.0895e-01,  8.8777e-02,  8.7138e-02,  9.3056e-03, -3.8743e-02,\n",
      "          6.8587e-02, -1.4609e-02,  9.8533e-02, -9.0153e-02, -7.1251e-02,\n",
      "         -6.4914e-02,  4.0735e-02,  2.9322e-02,  9.0600e-02, -1.6146e-02,\n",
      "          3.7153e-02,  1.5455e-02,  5.8870e-02, -4.1346e-02,  6.4363e-02,\n",
      "         -5.4978e-02,  4.6393e-02, -2.8400e-02, -2.9244e-02,  5.4111e-02,\n",
      "          1.1644e-01,  2.1435e-02,  7.8244e-02, -6.2829e-02,  1.1197e-01,\n",
      "         -1.2334e-01,  7.4419e-02, -5.1713e-02, -7.8925e-02],\n",
      "        [ 9.2324e-03,  9.3766e-02, -1.2440e-01, -7.3338e-02, -1.1173e-01,\n",
      "         -1.1439e-01, -7.8819e-02,  2.1151e-02,  3.5905e-02,  9.2005e-02,\n",
      "         -1.1556e-02,  5.5557e-03,  6.8898e-02,  2.9450e-03, -9.3474e-02,\n",
      "         -9.0974e-02, -1.4769e-02,  2.7549e-02,  8.8696e-02, -6.1734e-02,\n",
      "         -5.6735e-02,  1.9582e-02,  4.9691e-02,  7.8185e-02,  8.6893e-02,\n",
      "         -8.0887e-02,  7.6248e-02,  2.7575e-02, -1.1931e-01,  1.2202e-01,\n",
      "          6.4593e-02, -3.0064e-02, -3.9463e-02, -7.8371e-02,  1.2272e-01,\n",
      "          1.2047e-01, -7.3329e-02, -1.5440e-03, -1.1593e-01,  1.4573e-02,\n",
      "          2.8109e-02, -3.4346e-02, -8.5435e-03,  2.0657e-02,  4.0761e-02,\n",
      "          3.4082e-02,  3.6269e-02, -4.2420e-02,  6.8346e-02,  1.8768e-02,\n",
      "         -1.0447e-01, -7.1043e-02,  1.0830e-01,  1.0157e-01, -4.6603e-02,\n",
      "          5.3966e-02,  8.0548e-02,  4.6604e-02,  8.3643e-02, -3.2891e-02,\n",
      "          1.8555e-02,  9.4642e-02,  9.7163e-02,  1.1990e-01],\n",
      "        [-7.7498e-02, -7.3335e-02, -8.5491e-03, -1.1075e-01, -2.3823e-02,\n",
      "          6.6782e-02, -1.2269e-01, -1.3051e-02,  1.0839e-01,  9.6179e-02,\n",
      "         -2.4453e-04,  7.5656e-02,  7.6726e-02,  9.2993e-02, -1.0688e-01,\n",
      "         -8.1995e-02,  7.9718e-02, -5.7937e-02, -3.8185e-02,  5.2631e-02,\n",
      "         -7.6901e-02,  2.1841e-02,  3.6204e-02, -1.0646e-01, -1.6045e-03,\n",
      "          4.2224e-02,  6.6633e-02, -4.1048e-02, -8.3891e-02, -5.9820e-02,\n",
      "          8.0774e-02, -9.3212e-02,  9.1934e-02,  1.2274e-01,  4.0140e-02,\n",
      "          1.1405e-01,  6.4238e-02,  5.1519e-02,  3.1423e-02,  7.0677e-02,\n",
      "          3.1341e-03,  7.0538e-02, -1.0722e-01,  8.1076e-02,  2.6795e-02,\n",
      "         -3.8596e-02,  9.5195e-02, -4.6948e-02,  7.8513e-02,  4.4699e-02,\n",
      "          4.7050e-02, -8.9756e-02,  1.9281e-02,  1.3679e-02,  9.5933e-02,\n",
      "          1.2242e-01,  1.6741e-02,  7.4558e-02,  6.0490e-02, -7.5022e-02,\n",
      "         -9.3509e-02, -7.1831e-02, -9.1085e-02,  5.5113e-02],\n",
      "        [ 6.7484e-02, -4.2218e-02, -3.6658e-02, -1.0558e-01,  3.2346e-02,\n",
      "         -8.4160e-02, -6.9225e-02,  7.5498e-02, -5.2482e-02,  1.4155e-02,\n",
      "          3.0187e-02,  2.9936e-02, -3.5122e-02, -9.3609e-02,  5.6421e-02,\n",
      "          4.5984e-02,  1.6318e-02,  2.6852e-02,  6.2996e-02,  1.1776e-01,\n",
      "          7.0301e-03,  1.0292e-01, -8.3402e-02,  1.5249e-02, -6.7202e-02,\n",
      "         -4.7896e-03, -7.9248e-02, -2.7788e-02,  1.4237e-02, -1.6510e-02,\n",
      "          3.2887e-02, -6.6020e-02,  5.2338e-02, -5.2973e-02,  3.4235e-02,\n",
      "          1.4796e-02, -7.4443e-02,  4.4885e-02, -6.2355e-02, -7.9634e-02,\n",
      "         -2.4609e-02, -9.8802e-02,  1.1336e-01, -8.9193e-02, -2.5869e-02,\n",
      "          2.7452e-02,  3.5573e-02,  9.0983e-02,  4.4150e-02,  9.1074e-02,\n",
      "          4.7210e-02, -9.9072e-03, -1.0748e-01,  1.0984e-01,  7.9042e-02,\n",
      "         -9.9018e-02,  2.5841e-02,  5.8746e-02, -1.0818e-01, -8.6092e-02,\n",
      "          5.2944e-03, -1.0903e-01,  7.1160e-02, -8.3317e-02],\n",
      "        [ 3.7547e-02, -6.5282e-02, -7.6741e-02,  9.1511e-02,  1.2128e-01,\n",
      "          5.9441e-02, -5.2695e-03, -3.3557e-05, -8.4395e-02, -4.2770e-02,\n",
      "          1.3865e-03, -6.5241e-02, -2.3034e-02, -8.7342e-02, -1.1338e-01,\n",
      "         -7.5488e-02, -3.4668e-02, -8.5295e-02, -1.1662e-01,  1.0978e-03,\n",
      "          4.9698e-02, -2.0204e-02,  5.6113e-02,  5.2662e-02, -1.0554e-01,\n",
      "          4.7794e-02,  2.7317e-02,  3.8582e-02,  9.9162e-02, -1.1744e-02,\n",
      "         -1.0394e-01,  1.2486e-01, -2.7648e-02, -3.9729e-02,  2.4422e-02,\n",
      "         -3.6329e-02, -1.0216e-01, -1.9192e-02, -1.0815e-02,  1.3240e-03,\n",
      "         -4.2296e-02,  8.1066e-02,  8.4961e-02,  8.0494e-02, -4.6567e-02,\n",
      "         -9.9912e-02, -5.4779e-02, -1.0287e-01, -4.4296e-02,  9.8987e-02,\n",
      "          1.0041e-01,  7.1872e-02, -1.0457e-01, -5.1086e-02, -8.2854e-02,\n",
      "         -8.1054e-02, -1.1208e-01, -7.3831e-02,  1.1360e-01, -9.0677e-02,\n",
      "         -1.0306e-01,  5.6577e-02, -1.4426e-02,  5.8586e-02],\n",
      "        [ 3.7344e-04, -5.3528e-03, -8.7754e-02,  2.4142e-02,  2.8814e-02,\n",
      "          5.1108e-02,  9.4117e-02, -2.1165e-02, -2.3452e-02, -4.7864e-02,\n",
      "          7.1187e-02, -3.0431e-02, -1.0842e-01,  9.0936e-02, -2.0454e-02,\n",
      "         -7.5076e-03,  1.0561e-01,  8.3838e-02,  1.2159e-01,  7.0164e-02,\n",
      "          1.1247e-01, -9.5962e-02,  4.9120e-02,  2.6805e-02,  1.5401e-03,\n",
      "          3.6146e-02, -6.2679e-02, -7.0582e-02, -2.8292e-02, -7.9023e-02,\n",
      "          3.6890e-02,  1.0215e-01, -2.3820e-02,  7.3045e-02,  9.6355e-02,\n",
      "         -9.3501e-02, -6.6463e-02, -7.2284e-02,  1.7286e-02, -4.7387e-02,\n",
      "         -6.8005e-02,  4.1671e-02, -8.8381e-02, -5.5840e-02, -1.6454e-03,\n",
      "          9.5582e-02, -4.0150e-02, -1.2176e-01,  1.0214e-01, -2.8477e-02,\n",
      "         -1.5235e-02, -1.2287e-01,  1.0387e-01, -1.2167e-01,  5.2427e-02,\n",
      "         -1.1960e-01, -5.9300e-02, -1.1941e-01,  1.6737e-02,  1.7863e-02,\n",
      "          8.6497e-02,  1.1454e-01, -1.1458e-01, -6.9790e-02],\n",
      "        [ 8.1056e-02, -4.1668e-02,  9.3360e-02,  1.0060e-01,  8.6666e-03,\n",
      "         -5.1874e-02, -3.3035e-02, -2.6804e-02, -9.2060e-02, -8.1164e-02,\n",
      "          1.0379e-01,  8.3479e-02, -3.9879e-02,  1.5865e-03,  8.8792e-02,\n",
      "         -2.6742e-02,  2.7275e-02, -8.6268e-02,  2.2425e-02, -4.9660e-02,\n",
      "         -1.2203e-02,  1.7157e-02, -7.4163e-02,  1.0469e-01,  5.8308e-02,\n",
      "          6.3897e-03, -1.9525e-02,  2.6050e-02,  7.9654e-02, -7.8785e-02,\n",
      "          3.4944e-02,  3.8444e-02, -3.3000e-02,  1.0511e-01,  6.8084e-02,\n",
      "         -5.8500e-02,  6.2758e-02,  1.0539e-01, -6.7424e-02, -5.4039e-02,\n",
      "         -1.8349e-02, -2.0057e-02,  3.8369e-02, -8.9920e-02, -8.9520e-02,\n",
      "         -5.2805e-02,  7.0479e-02, -9.1257e-02, -4.7569e-02,  5.2248e-02,\n",
      "         -4.3375e-02,  9.6264e-02, -8.2766e-04,  1.2309e-01, -1.0556e-01,\n",
      "         -1.0762e-01,  1.8659e-02, -3.6022e-02, -1.0376e-01, -8.2625e-02,\n",
      "          5.4124e-03, -1.1500e-02,  8.6567e-02,  1.9359e-02],\n",
      "        [ 4.1922e-02,  1.0091e-01,  1.0527e-01,  7.6292e-02,  6.1811e-02,\n",
      "         -1.0605e-01, -4.5075e-02, -4.0810e-02, -1.0399e-01,  4.9425e-02,\n",
      "          4.9786e-02,  5.1904e-02, -3.7842e-03,  7.1888e-02,  8.0774e-02,\n",
      "         -4.4208e-02,  2.4433e-02,  7.4934e-02,  1.0409e-02, -7.0008e-03,\n",
      "          5.0199e-02,  9.5497e-03, -8.3219e-02,  3.9071e-02, -4.6527e-02,\n",
      "          1.1408e-01,  1.2160e-01,  1.2175e-01,  1.7557e-02,  6.1722e-02,\n",
      "          4.1696e-04,  3.4853e-02, -9.1904e-02,  1.0592e-01,  2.1831e-02,\n",
      "         -7.9083e-02, -8.7630e-02,  4.8140e-02, -4.6206e-02,  4.1633e-02,\n",
      "         -9.4837e-02,  1.2237e-01,  3.7782e-02,  3.5059e-02, -1.0765e-02,\n",
      "          1.1060e-01, -1.2380e-01, -4.6395e-02,  1.5916e-02,  8.6370e-02,\n",
      "          6.8040e-02, -9.4005e-02,  1.6698e-02,  7.3096e-02, -1.8928e-02,\n",
      "         -9.8295e-02,  7.9280e-02, -6.3985e-02, -9.9861e-02, -4.4942e-02,\n",
      "          1.7453e-02, -9.3467e-02, -1.6652e-02, -2.0468e-02]],\n",
      "       requires_grad=True)\n",
      "Parameter containing:\n",
      "tensor([ 0.0475, -0.1048, -0.0655,  0.0530,  0.0383, -0.1074,  0.0918,  0.0670,\n",
      "        -0.0642,  0.0236], requires_grad=True)\n"
     ]
    }
   ],
   "source": [
    "print(model.fc1.weight)\n",
    "print(model.fc1.bias)"
   ]
  },
  {
   "cell_type": "markdown",
   "metadata": {},
   "source": [
    "For custom initialization, we want to modify these tensors in place. These are actually autograd *Variables*, so we need to get back the actual tensors with `model.fc1.weight.data`. Once we have the tensors, we can fill them with zeros (for biases) or random normal values."
   ]
  },
  {
   "cell_type": "code",
   "execution_count": 36,
   "metadata": {},
   "outputs": [
    {
     "data": {
      "text/plain": [
       "tensor([0., 0., 0., 0., 0., 0., 0., 0., 0., 0.])"
      ]
     },
     "execution_count": 36,
     "metadata": {},
     "output_type": "execute_result"
    }
   ],
   "source": [
    "# Set biases to all zeros\n",
    "model.fc1.bias.data.fill_(0)"
   ]
  },
  {
   "cell_type": "code",
   "execution_count": 37,
   "metadata": {},
   "outputs": [
    {
     "data": {
      "text/plain": [
       "tensor([[-1.0353e-02, -2.5303e-03, -1.5888e-02, -6.9247e-03, -2.6207e-02,\n",
       "          8.1355e-03,  3.2090e-03, -3.6087e-03, -2.1514e-02, -1.2921e-02,\n",
       "         -2.5354e-03,  3.5155e-03, -5.4743e-03, -2.3686e-03,  4.5286e-03,\n",
       "         -1.2787e-02, -5.1156e-03,  9.3795e-04, -3.0932e-03, -8.5117e-06,\n",
       "         -1.3448e-03,  4.8096e-03,  6.4151e-03,  4.6870e-03, -6.5129e-03,\n",
       "         -1.4719e-03,  3.3774e-03, -1.4716e-02, -4.3781e-03,  5.3915e-03,\n",
       "          4.4196e-03,  1.3245e-02,  2.1506e-02,  7.9429e-03,  1.0429e-02,\n",
       "         -3.5505e-03,  8.9300e-03,  1.7380e-03,  9.2198e-04, -2.8050e-03,\n",
       "         -1.3525e-02, -3.4814e-03,  7.3805e-03, -2.3121e-03, -1.6193e-03,\n",
       "          1.2523e-02,  5.3803e-03,  2.9411e-03, -3.4564e-03, -7.6040e-03,\n",
       "          3.0975e-03,  6.7224e-03, -3.0744e-03, -1.5909e-03,  1.2366e-02,\n",
       "          6.6616e-03,  5.8223e-04,  9.5294e-03, -1.2584e-02,  8.0429e-03,\n",
       "         -8.2991e-03,  7.4953e-04,  1.7603e-02,  1.5433e-02],\n",
       "        [ 1.8218e-02,  1.6674e-02, -1.8588e-03,  1.8840e-03, -4.0613e-03,\n",
       "         -6.4036e-03,  8.4355e-03, -3.7523e-03,  1.2215e-02, -3.5681e-03,\n",
       "          1.7396e-03, -1.0625e-02, -1.2113e-02, -8.3312e-03, -2.9222e-03,\n",
       "         -9.6680e-03,  2.1320e-02,  1.1026e-03,  2.8905e-03, -1.9849e-02,\n",
       "         -1.9555e-03,  9.8242e-03,  1.1016e-02, -4.9223e-03,  1.1997e-02,\n",
       "         -1.3756e-02, -1.9274e-02, -6.4050e-03, -8.3674e-03,  1.8616e-02,\n",
       "          1.1359e-02, -9.2005e-03, -2.2740e-03, -1.3315e-04, -2.8367e-02,\n",
       "         -1.0735e-02, -5.3219e-03, -4.1810e-03,  6.2401e-03, -4.7836e-03,\n",
       "          6.9980e-03, -4.0671e-03,  6.7595e-03, -1.1212e-02, -6.5936e-03,\n",
       "         -7.7315e-03,  8.9307e-03,  4.3473e-03,  2.8685e-03,  8.0862e-03,\n",
       "          2.3037e-03,  1.7672e-03,  2.1955e-02,  7.8762e-03,  3.6078e-03,\n",
       "          7.9715e-03,  1.1567e-03,  7.0440e-03, -3.6955e-03,  1.4735e-02,\n",
       "          3.8772e-03,  1.6973e-03, -1.5307e-02, -3.0823e-03],\n",
       "        [ 2.2382e-03,  1.7350e-02, -2.7180e-02,  6.4130e-04,  9.3393e-04,\n",
       "          8.6741e-04, -7.4145e-03,  2.0702e-02, -7.1455e-03, -9.8230e-04,\n",
       "         -7.6215e-05, -5.4764e-03, -1.2371e-02,  3.7106e-03,  1.0174e-02,\n",
       "         -1.8209e-02, -5.3450e-03,  7.7111e-03,  1.6547e-03,  6.9340e-03,\n",
       "          1.5255e-02,  8.2607e-03,  7.8932e-03,  2.9898e-03,  1.6018e-02,\n",
       "          2.8736e-04,  8.2422e-03, -1.1140e-03, -6.6865e-03,  1.7640e-02,\n",
       "          4.9871e-03, -4.4206e-03,  2.2287e-02,  4.9049e-03, -1.8477e-02,\n",
       "         -4.3734e-03, -5.8898e-03, -4.4033e-03,  1.0870e-02,  6.8252e-03,\n",
       "          9.1892e-03, -3.4198e-03,  6.6865e-03, -1.3667e-02, -1.4864e-02,\n",
       "         -1.6620e-02, -1.3945e-03,  3.0852e-03,  1.1353e-02,  1.0631e-02,\n",
       "          1.9272e-03, -4.1145e-03,  1.0072e-02, -1.1664e-02, -1.6186e-02,\n",
       "         -4.2573e-03,  2.6685e-03, -1.0511e-03,  1.4981e-02,  3.1971e-03,\n",
       "         -5.8450e-03, -1.0179e-02,  1.8240e-02, -1.8380e-03],\n",
       "        [ 4.4730e-04,  1.0076e-02, -7.8984e-03, -8.2718e-03,  1.7320e-03,\n",
       "          1.4408e-02,  1.8736e-02,  5.8054e-03,  6.6926e-03, -6.5577e-03,\n",
       "         -5.1892e-03,  1.4547e-02, -3.3256e-03,  3.2114e-03, -3.2066e-03,\n",
       "          6.6199e-03, -1.1506e-02,  1.3347e-02, -6.5408e-03,  2.7221e-03,\n",
       "         -1.2305e-02, -1.4789e-02,  1.5194e-03,  4.3481e-03, -1.8698e-02,\n",
       "         -5.5576e-03,  1.0029e-03, -1.3353e-02, -2.8829e-02,  6.0483e-03,\n",
       "         -1.2381e-02,  7.2649e-03,  3.2570e-02,  3.4213e-04,  9.4117e-04,\n",
       "         -9.7415e-03,  5.7152e-03,  7.9320e-04,  2.5848e-02, -4.3338e-03,\n",
       "         -8.6931e-03,  1.2263e-02, -7.8277e-03,  4.3865e-03, -6.0424e-03,\n",
       "         -1.4440e-02,  1.5475e-02, -2.6692e-03, -7.8324e-03, -8.1446e-03,\n",
       "          1.2414e-02, -1.7285e-02, -8.5246e-03,  4.6417e-03, -1.5049e-02,\n",
       "          4.7462e-03, -3.8884e-03, -6.8690e-03, -2.6261e-03, -2.8070e-03,\n",
       "          1.5645e-02,  2.0881e-02, -8.7048e-03,  6.4080e-03],\n",
       "        [ 1.6047e-03, -1.4772e-02,  8.8794e-03,  2.0301e-03, -2.9066e-03,\n",
       "          1.1179e-02, -4.7381e-03, -9.6961e-03, -1.4096e-02,  1.3827e-02,\n",
       "          4.2129e-03, -1.6963e-02, -1.2429e-03,  2.2277e-03,  1.2311e-02,\n",
       "          9.0677e-03, -2.5055e-03, -4.8723e-04,  2.8095e-02,  1.2310e-02,\n",
       "         -1.2375e-02, -1.3955e-02, -2.0789e-02,  1.7135e-02, -2.4266e-04,\n",
       "         -4.7913e-03,  1.9750e-03,  7.0548e-03,  2.8727e-03, -1.8640e-03,\n",
       "         -8.6357e-04,  4.2277e-04,  5.1464e-03,  9.8093e-03,  7.3769e-03,\n",
       "         -1.6991e-02,  3.0112e-03, -2.2919e-03, -1.2342e-03, -2.8182e-03,\n",
       "          6.4573e-03,  1.3084e-02,  1.3665e-02,  6.2173e-04, -9.6711e-03,\n",
       "         -9.3237e-03, -1.4517e-03, -4.3763e-03,  1.0318e-02, -4.8194e-03,\n",
       "          3.9334e-03,  3.2032e-03,  1.3613e-02,  2.0264e-03, -7.1335e-03,\n",
       "         -1.0156e-02,  1.1839e-02,  1.2929e-03, -8.1456e-04,  4.3945e-03,\n",
       "         -8.6585e-03, -1.6624e-02,  1.1078e-02, -1.6116e-02],\n",
       "        [ 7.2898e-03, -3.0354e-03, -1.2933e-02,  8.8104e-03,  1.9952e-02,\n",
       "         -8.4247e-03, -5.6547e-04,  8.9519e-03,  2.4388e-04,  1.3446e-02,\n",
       "          4.8953e-03,  1.6325e-02,  5.9865e-03,  2.1299e-03, -2.1872e-03,\n",
       "          6.1006e-03, -3.8477e-03, -3.1983e-03, -5.6300e-04, -8.6116e-03,\n",
       "         -1.4805e-02, -3.0281e-03,  4.7568e-03, -1.5508e-02,  1.4891e-02,\n",
       "          2.6904e-03, -1.0363e-02,  1.6639e-02,  7.0074e-03, -4.8184e-03,\n",
       "          8.9278e-03,  7.0922e-03, -1.2088e-02,  1.9022e-02, -1.6112e-02,\n",
       "          1.2129e-02, -1.5968e-02, -2.9914e-02, -2.5064e-03, -4.8209e-03,\n",
       "         -4.2098e-03, -1.1210e-02,  1.6134e-02, -1.4107e-02, -2.2148e-03,\n",
       "         -3.0514e-04, -4.1383e-03, -8.0782e-03, -1.1300e-02, -1.5919e-03,\n",
       "         -8.7003e-03, -1.3715e-02,  8.1436e-03,  1.6355e-03, -8.9235e-03,\n",
       "         -2.0057e-02, -7.9785e-03, -4.2864e-03, -4.6668e-03,  1.4042e-02,\n",
       "         -8.7521e-03, -1.0915e-02, -4.5713e-03,  3.9043e-03],\n",
       "        [ 4.6813e-03,  2.0179e-03, -1.4170e-02, -8.8832e-03,  6.5970e-03,\n",
       "          1.0604e-02, -9.0922e-03, -1.2046e-03, -1.4583e-02, -1.2288e-02,\n",
       "          1.0572e-02, -6.2255e-03,  3.3030e-03,  1.0672e-02,  9.4934e-03,\n",
       "          5.2555e-04, -9.7261e-03,  9.9121e-03, -2.3106e-02,  9.5814e-03,\n",
       "          3.3976e-03,  9.3119e-04,  1.0512e-03, -1.0081e-02,  2.5745e-03,\n",
       "          1.5381e-02, -4.4984e-03, -2.6603e-03, -1.0784e-03,  1.3551e-02,\n",
       "         -1.2775e-02, -1.4918e-02, -2.3388e-03, -2.4746e-03,  8.8808e-03,\n",
       "          3.4080e-03, -1.4229e-02,  1.4186e-03, -1.1308e-02, -6.7443e-03,\n",
       "          2.1578e-03,  6.0490e-04, -8.6008e-03, -1.0946e-02, -4.9828e-03,\n",
       "         -5.2620e-04, -1.3500e-02, -6.9382e-03, -4.6158e-03,  8.5774e-03,\n",
       "         -1.0254e-02, -5.6858e-03,  2.8176e-03, -7.9723e-03, -5.9094e-03,\n",
       "         -2.8972e-03,  5.1067e-03, -5.4167e-03,  5.0666e-04,  1.4536e-02,\n",
       "          5.7690e-03,  9.1794e-03,  6.7722e-03,  4.5040e-03],\n",
       "        [-2.9195e-03, -1.0270e-02, -1.4213e-02,  2.2736e-03, -2.5691e-02,\n",
       "          5.7405e-04,  1.7615e-02, -9.7752e-03, -1.1464e-04,  8.0127e-03,\n",
       "          5.6613e-03,  1.4845e-02,  9.1068e-04,  2.0399e-02, -1.2426e-03,\n",
       "         -6.3716e-03, -1.4477e-03, -1.5133e-02, -1.5103e-02, -2.0148e-02,\n",
       "          1.4266e-02,  1.2548e-02, -9.4170e-03,  8.8572e-03, -3.1178e-03,\n",
       "          3.8171e-04, -6.8894e-03,  3.5927e-04, -3.6376e-03, -6.2005e-03,\n",
       "         -3.2063e-03, -4.7831e-03,  2.5260e-03, -4.8917e-03,  1.4673e-03,\n",
       "          2.3091e-03,  4.5178e-03,  1.4562e-02, -9.2976e-03,  1.9603e-03,\n",
       "          1.6029e-03, -1.6269e-02,  1.0285e-02, -6.6184e-03,  1.9100e-04,\n",
       "         -9.1939e-03, -2.9163e-03, -2.7111e-03,  1.1908e-02,  5.6900e-04,\n",
       "         -3.4165e-03,  1.0584e-02,  2.3268e-02, -7.2906e-03,  1.0118e-03,\n",
       "         -2.9528e-03, -1.9989e-02,  8.3152e-03, -1.0982e-02, -2.7427e-03,\n",
       "          6.3836e-03,  1.3035e-02, -7.5521e-03,  1.7680e-02],\n",
       "        [-9.3011e-03,  1.7848e-03, -1.2878e-02, -1.3088e-02, -8.2660e-03,\n",
       "         -1.0651e-02,  5.5421e-03, -1.4877e-02, -1.9965e-02, -8.5408e-04,\n",
       "         -2.2339e-03, -8.1183e-03, -2.8559e-02,  1.1959e-02,  4.6120e-04,\n",
       "         -1.7157e-02, -1.5323e-02,  4.0359e-03, -8.4521e-03,  9.1855e-03,\n",
       "         -1.6720e-03,  1.1541e-02, -1.2030e-02, -8.9320e-03,  5.5962e-03,\n",
       "         -1.3348e-02, -5.2968e-03,  4.6514e-03,  1.2032e-02, -1.1488e-02,\n",
       "          1.1047e-02,  8.2709e-04,  9.7574e-03, -1.0704e-02,  2.0544e-02,\n",
       "         -1.4803e-03,  2.5520e-03,  1.1248e-02,  4.9917e-03, -1.9913e-03,\n",
       "         -4.2303e-04,  3.2921e-02,  1.2218e-02, -9.2339e-04, -1.7983e-03,\n",
       "         -3.7737e-03, -6.9079e-03,  1.5099e-02, -1.5431e-02,  3.6394e-03,\n",
       "         -8.0799e-03, -1.0103e-02,  2.0180e-03,  5.0093e-03, -3.0832e-03,\n",
       "         -1.4603e-02, -1.0686e-02, -1.1118e-02, -3.5799e-03,  8.5494e-03,\n",
       "          7.6014e-05, -1.8649e-02, -5.7779e-03, -1.5851e-03],\n",
       "        [-6.8307e-03, -3.0702e-04,  1.9660e-02,  4.9623e-03, -1.0394e-03,\n",
       "         -8.0629e-03,  1.1602e-02, -8.4267e-03, -1.7455e-02, -6.1022e-03,\n",
       "          2.4352e-03, -5.9929e-04,  3.3617e-03,  9.1825e-03, -1.8928e-03,\n",
       "          7.1505e-03, -4.1820e-03,  5.4195e-03, -6.9833e-03, -8.9805e-03,\n",
       "         -1.5283e-03,  1.5540e-03,  9.6612e-03, -9.0896e-03,  7.4295e-03,\n",
       "          1.4372e-02, -8.7825e-04,  8.4740e-03, -1.1258e-03, -2.2903e-03,\n",
       "         -3.1607e-03,  6.4895e-03,  1.9650e-03, -1.1868e-03, -5.1430e-03,\n",
       "         -1.2857e-02, -6.8439e-03,  6.2353e-03, -1.9502e-02,  2.0019e-02,\n",
       "          5.0989e-03,  4.7475e-03, -1.6465e-02,  2.5194e-03,  6.4358e-03,\n",
       "         -7.8797e-03, -2.4839e-03,  6.0523e-03,  8.3571e-03, -1.2917e-02,\n",
       "          8.2860e-03,  2.0550e-04,  7.4900e-04, -4.2139e-03, -2.4852e-03,\n",
       "          1.1057e-02,  2.6537e-03, -1.0594e-02,  1.0851e-02, -5.7435e-03,\n",
       "         -6.7181e-04,  5.9006e-03,  1.3494e-02, -6.2755e-03]])"
      ]
     },
     "execution_count": 37,
     "metadata": {},
     "output_type": "execute_result"
    }
   ],
   "source": [
    "# sample from random normal with standard dev = 0.01\n",
    "model.fc1.weight.data.normal_(std=0.01)"
   ]
  },
  {
   "cell_type": "markdown",
   "metadata": {},
   "source": [
    "### Forward pass\n",
    "\n",
    "Now that we have a network, let's see what happens when we pass in an image."
   ]
  },
  {
   "cell_type": "code",
   "execution_count": 40,
   "metadata": {},
   "outputs": [
    {
     "data": {
      "text/plain": [
       "torch.Size([1, 784])"
      ]
     },
     "execution_count": 40,
     "metadata": {},
     "output_type": "execute_result"
    }
   ],
   "source": [
    "images[img_idx,:].shape"
   ]
  },
  {
   "cell_type": "code",
   "execution_count": 44,
   "metadata": {},
   "outputs": [
    {
     "data": {
      "image/png": "[encoded data removed]",
      "text/plain": [
       "<Figure size 600x900 with 2 Axes>"
      ]
     },
     "metadata": {
      "image/png": {
       "height": 327,
       "width": 589
      }
     },
     "output_type": "display_data"
    }
   ],
   "source": [
    "# Grab some data \n",
    "dataiter = iter(trainloader)\n",
    "images, labels = next(dataiter)\n",
    "\n",
    "# Resize images into a 1D vector, new shape is (batch size, color channels, image pixels) \n",
    "images.resize_(64, 1, 784)\n",
    "# or images.resize_(images.shape[0], 1, 784) to automatically get batch size\n",
    "\n",
    "# Forward pass through the network\n",
    "img_idx = 0\n",
    "ps = model.forward(images[img_idx,:])\n",
    "\n",
    "img = images[img_idx]\n",
    "helper.view_classify(img.view(1, 28, 28), ps)"
   ]
  },
  {
   "cell_type": "markdown",
   "metadata": {},
   "source": [
    "As you can see above, our network has basically no idea what this digit is. It's because we haven't trained it yet, all the weights are random!\n",
    "\n",
    "### Using `nn.Sequential`\n",
    "\n",
    "PyTorch provides a convenient way to build networks like this where a tensor is passed sequentially through operations, `nn.Sequential` ([documentation](https://pytorch.org/docs/master/nn.html#torch.nn.Sequential)). Using this to build the equivalent network:"
   ]
  },
  {
   "cell_type": "code",
   "execution_count": 45,
   "metadata": {},
   "outputs": [
    {
     "name": "stdout",
     "output_type": "stream",
     "text": [
      "Sequential(\n",
      "  (0): Linear(in_features=784, out_features=128, bias=True)\n",
      "  (1): ReLU()\n",
      "  (2): Linear(in_features=128, out_features=64, bias=True)\n",
      "  (3): ReLU()\n",
      "  (4): Linear(in_features=64, out_features=10, bias=True)\n",
      "  (5): Softmax(dim=1)\n",
      ")\n"
     ]
    },
    {
     "data": {
      "image/png": "[encoded data removed]",
      "text/plain": [
       "<Figure size 600x900 with 2 Axes>"
      ]
     },
     "metadata": {
      "image/png": {
       "height": 327,
       "width": 589
      }
     },
     "output_type": "display_data"
    }
   ],
   "source": [
    "# Hyperparameters for our network\n",
    "input_size = 784\n",
    "hidden_sizes = [128, 64]\n",
    "output_size = 10\n",
    "\n",
    "# Build a feed-forward network\n",
    "model = nn.Sequential(nn.Linear(input_size, hidden_sizes[0]),\n",
    "                      nn.ReLU(),\n",
    "                      nn.Linear(hidden_sizes[0], hidden_sizes[1]),\n",
    "                      nn.ReLU(),\n",
    "                      nn.Linear(hidden_sizes[1], output_size),\n",
    "                      nn.Softmax(dim=1))\n",
    "print(model)\n",
    "\n",
    "# Forward pass through the network and display output\n",
    "images, labels = next(iter(trainloader))\n",
    "images.resize_(images.shape[0], 1, 784)\n",
    "ps = model.forward(images[0,:])\n",
    "helper.view_classify(images[0].view(1, 28, 28), ps)"
   ]
  },
  {
   "cell_type": "markdown",
   "metadata": {},
   "source": [
    "Here our model is the same as before: 784 input units, a hidden layer with 128 units, ReLU activation, 64 unit hidden layer, another ReLU, then the output layer with 10 units, and the softmax output.\n",
    "\n",
    "The operations are available by passing in the appropriate index. For example, if you want to get first Linear operation and look at the weights, you'd use `model[0]`."
   ]
  },
  {
   "cell_type": "code",
   "execution_count": 46,
   "metadata": {},
   "outputs": [
    {
     "name": "stdout",
     "output_type": "stream",
     "text": [
      "Linear(in_features=784, out_features=128, bias=True)\n"
     ]
    },
    {
     "data": {
      "text/plain": [
       "Parameter containing:\n",
       "tensor([[ 0.0271, -0.0350, -0.0222,  ...,  0.0294, -0.0048,  0.0168],\n",
       "        [-0.0337, -0.0096,  0.0274,  ...,  0.0274,  0.0270,  0.0114],\n",
       "        [-0.0204,  0.0099,  0.0288,  ...,  0.0357, -0.0170,  0.0038],\n",
       "        ...,\n",
       "        [-0.0117,  0.0243, -0.0038,  ...,  0.0028, -0.0126,  0.0323],\n",
       "        [ 0.0032,  0.0033,  0.0344,  ...,  0.0040,  0.0215,  0.0170],\n",
       "        [-0.0185, -0.0334,  0.0119,  ...,  0.0063, -0.0329, -0.0147]],\n",
       "       requires_grad=True)"
      ]
     },
     "execution_count": 46,
     "metadata": {},
     "output_type": "execute_result"
    }
   ],
   "source": [
    "print(model[0])\n",
    "model[0].weight"
   ]
  },
  {
   "cell_type": "markdown",
   "metadata": {},
   "source": [
    "You can also pass in an `OrderedDict` to name the individual layers and operations, instead of using incremental integers. Note that dictionary keys must be unique, so _each operation must have a different name_."
   ]
  },
  {
   "cell_type": "code",
   "execution_count": 47,
   "metadata": {},
   "outputs": [
    {
     "data": {
      "text/plain": [
       "Sequential(\n",
       "  (fc1): Linear(in_features=784, out_features=128, bias=True)\n",
       "  (relu1): ReLU()\n",
       "  (fc2): Linear(in_features=128, out_features=64, bias=True)\n",
       "  (relu2): ReLU()\n",
       "  (output): Linear(in_features=64, out_features=10, bias=True)\n",
       "  (softmax): Softmax(dim=1)\n",
       ")"
      ]
     },
     "execution_count": 47,
     "metadata": {},
     "output_type": "execute_result"
    }
   ],
   "source": [
    "from collections import OrderedDict\n",
    "model = nn.Sequential(OrderedDict([\n",
    "                      ('fc1', nn.Linear(input_size, hidden_sizes[0])),\n",
    "                      ('relu1', nn.ReLU()),\n",
    "                      ('fc2', nn.Linear(hidden_sizes[0], hidden_sizes[1])),\n",
    "                      ('relu2', nn.ReLU()),\n",
    "                      ('output', nn.Linear(hidden_sizes[1], output_size)),\n",
    "                      ('softmax', nn.Softmax(dim=1))]))\n",
    "model"
   ]
  },
  {
   "cell_type": "markdown",
   "metadata": {},
   "source": [
    "Now you can access layers either by integer or the name"
   ]
  },
  {
   "cell_type": "code",
   "execution_count": 48,
   "metadata": {},
   "outputs": [
    {
     "name": "stdout",
     "output_type": "stream",
     "text": [
      "Linear(in_features=784, out_features=128, bias=True)\n",
      "Linear(in_features=784, out_features=128, bias=True)\n"
     ]
    }
   ],
   "source": [
    "print(model[0])\n",
    "print(model.fc1)"
   ]
  },
  {
   "cell_type": "markdown",
   "metadata": {},
   "source": [
    "In the next notebook, we'll see how we can train a neural network to accuractly predict the numbers appearing in the MNIST images."
   ]
  }
 ],
 "metadata": {
  "kernelspec": {
   "display_name": "Python 3 (ipykernel)",
   "language": "python",
   "name": "python3"
  },
  "language_info": {
   "codemirror_mode": {
    "name": "ipython",
    "version": 3
   },
   "file_extension": ".py",
   "mimetype": "text/x-python",
   "name": "python",
   "nbconvert_exporter": "python",
   "pygments_lexer": "ipython3",
   "version": "3.11.4"
  },
  "vscode": {
   "interpreter": {
    "hash": "916dbcbb3f70747c44a77c7bcd40155683ae19c65e1c03b4aa3499c5328201f1"
   }
  }
 },
 "nbformat": 4,
 "nbformat_minor": 4
}
